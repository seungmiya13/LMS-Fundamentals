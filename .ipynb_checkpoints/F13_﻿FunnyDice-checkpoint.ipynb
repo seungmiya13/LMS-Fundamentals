{
 "cells": [
  {
   "cell_type": "markdown",
   "id": "adverse-tradition",
   "metadata": {},
   "source": [
    "n면체 주사위 위젯 만들기\n",
    "======\n",
    "             \n",
    "              \n",
    "기능\n",
    "\n",
    "- 주사위의 면의 개수 n을 입력할 수 있다.\n",
    "- 주사위를 던지면 1~n 눈의 수 중에서 랜덤으로 값을 출력한다.\n",
    "     \n",
    "\n",
    "\n",
    "어떻게 구현 ?\n",
    "\n",
    "- 나만의 n면체 주사위 클래스 이름은 FunnyDice 라고 한다. \n",
    "- 주사위 면의 개수 n을 인스턴스 변수로 선언해 주사위 면의 개수 n을 입력할 수 있게 한다.\n",
    "- throw란 메소드로 던져서 1 ~ n 중 하나의 값이 나오게 한다.\n",
    "- 주사위의 값을 특정한 값으로 세팅하기 : setval이란 기능을 통해 특정 값을 user가 선택할 수 있는 치팅 기능을 넣어도 재밌을 것 같다.\n",
    "- 현재 주사위 값 얻기 : 주사위를 던졌든, 주사위 값을 세팅했던지 주사위의 값을 user한테 알려줘야 한다. getval이란 기능을 추가해서 user가 현재 주사위의 값을 읽을 수 있게 해준다.\n"
   ]
  },
  {
   "cell_type": "markdown",
   "id": "lonely-porter",
   "metadata": {},
   "source": [
    "### main 함수"
   ]
  },
  {
   "cell_type": "code",
   "execution_count": 1,
   "id": "lucky-merchandise",
   "metadata": {},
   "outputs": [],
   "source": [
    "def main():\n",
    "    n = get_inputs() # 주사위 면의 수를 입력 받음\n",
    "    mydice = FunnyDice(n) # FunnyDice의 클래스로부터 인스턴스 객체로 만듬\n",
    "    mydice.throw() # 메소드 사용\n",
    "    print(\"행운의 숫자는? {}\".format(mydice.getval()))"
   ]
  },
  {
   "cell_type": "markdown",
   "id": "located-disorder",
   "metadata": {},
   "source": [
    "### FunnyDice 클래스"
   ]
  },
  {
   "cell_type": "code",
   "execution_count": 2,
   "id": "incident-camera",
   "metadata": {},
   "outputs": [],
   "source": [
    "from random import randrange\n",
    "\n",
    "class FunnyDice:\n",
    "    # 생성자 __init__ \n",
    "    def __init__(self, n=6):\n",
    "        self.n = int(n) # n면체 주사위\n",
    "        self.numbers = list(range(1, n+1)) # 나올 수 있는 주사위 눈들\n",
    "        self.index = randrange(0, self.n) # number 리스트의 랜덤 인덱스\n",
    "        self.val = self.numbers[self.index] # 나온 주사위의 눈\n",
    "    \n",
    "    # 메소드\n",
    "    def throw(self): # 랜덤으로 주사위 눈이 나오게 하는 메소드 \n",
    "        self.index = randrange(0, self.n)\n",
    "        self.val = self.numbers[self.index]\n",
    "    \n",
    "    def getval(self): # 주사위 눈의 값을 얻을 수 있는 메소드\n",
    "        return self.val\n",
    "    \n",
    "    def setval(self, val:int): # 사용자가 주사위 눈을 세팅수 있게끔 하는 메소드\n",
    "        if val <= self.n:\n",
    "            self.val = val\n",
    "        else:\n",
    "            msg = \"주사위에 없는 숫자입니다. 주사위는 1 ~ {0}까지 있습니다. \".format(self.n)\n",
    "            raise ValueError(msg)"
   ]
  },
  {
   "cell_type": "markdown",
   "id": "strange-swaziland",
   "metadata": {},
   "source": [
    "### 클래스가 잘 동작하는지 확인"
   ]
  },
  {
   "cell_type": "code",
   "execution_count": 3,
   "id": "loved-spectacular",
   "metadata": {},
   "outputs": [
    {
     "name": "stdout",
     "output_type": "stream",
     "text": [
      "5\n"
     ]
    }
   ],
   "source": [
    "lucknum = FunnyDice()\n",
    "lucknum.throw()\n",
    "print(lucknum.getval())"
   ]
  },
  {
   "cell_type": "code",
   "execution_count": 4,
   "id": "virtual-mobility",
   "metadata": {},
   "outputs": [
    {
     "ename": "ValueError",
     "evalue": "주사위에 없는 숫자입니다. 주사위는 1 ~ 6까지 있습니다. ",
     "output_type": "error",
     "traceback": [
      "\u001b[0;31m---------------------------------------------------------------------------\u001b[0m",
      "\u001b[0;31mValueError\u001b[0m                                Traceback (most recent call last)",
      "\u001b[0;32m<ipython-input-4-bb499688db51>\u001b[0m in \u001b[0;36m<module>\u001b[0;34m\u001b[0m\n\u001b[0;32m----> 1\u001b[0;31m \u001b[0mlucknum\u001b[0m\u001b[0;34m.\u001b[0m\u001b[0msetval\u001b[0m\u001b[0;34m(\u001b[0m\u001b[0;36m7\u001b[0m\u001b[0;34m)\u001b[0m\u001b[0;34m\u001b[0m\u001b[0;34m\u001b[0m\u001b[0m\n\u001b[0m",
      "\u001b[0;32m<ipython-input-2-53ed1666cfcf>\u001b[0m in \u001b[0;36msetval\u001b[0;34m(self, val)\u001b[0m\n\u001b[1;32m     22\u001b[0m         \u001b[0;32melse\u001b[0m\u001b[0;34m:\u001b[0m\u001b[0;34m\u001b[0m\u001b[0;34m\u001b[0m\u001b[0m\n\u001b[1;32m     23\u001b[0m             \u001b[0mmsg\u001b[0m \u001b[0;34m=\u001b[0m \u001b[0;34m\"주사위에 없는 숫자입니다. 주사위는 1 ~ {0}까지 있습니다. \"\u001b[0m\u001b[0;34m.\u001b[0m\u001b[0mformat\u001b[0m\u001b[0;34m(\u001b[0m\u001b[0mself\u001b[0m\u001b[0;34m.\u001b[0m\u001b[0mn\u001b[0m\u001b[0;34m)\u001b[0m\u001b[0;34m\u001b[0m\u001b[0;34m\u001b[0m\u001b[0m\n\u001b[0;32m---> 24\u001b[0;31m             \u001b[0;32mraise\u001b[0m \u001b[0mValueError\u001b[0m\u001b[0;34m(\u001b[0m\u001b[0mmsg\u001b[0m\u001b[0;34m)\u001b[0m\u001b[0;34m\u001b[0m\u001b[0;34m\u001b[0m\u001b[0m\n\u001b[0m",
      "\u001b[0;31mValueError\u001b[0m: 주사위에 없는 숫자입니다. 주사위는 1 ~ 6까지 있습니다. "
     ]
    }
   ],
   "source": [
    "lucknum.setval(7)"
   ]
  },
  {
   "cell_type": "markdown",
   "id": "related-balance",
   "metadata": {},
   "source": [
    "### get_inputs()함수 만들어 보기\n",
    "    \n",
    "main() 함수를 설계할 때, get_inputs()에서 사용자로부터 n면체 숫자 n값을 받게 한다고 했습니다.      \n",
    "파이썬 내장함수인 input 함수를 이용합니다."
   ]
  },
  {
   "cell_type": "code",
   "execution_count": 5,
   "id": "structured-senegal",
   "metadata": {},
   "outputs": [],
   "source": [
    "def get_inputs():\n",
    "    n = int(input(\"주사위 면의 개수를 입력하세요: \"))\n",
    "    return n"
   ]
  },
  {
   "cell_type": "markdown",
   "id": "paperback-inspection",
   "metadata": {},
   "source": [
    "### 실행해보기"
   ]
  },
  {
   "cell_type": "code",
   "execution_count": 6,
   "id": "christian-colon",
   "metadata": {},
   "outputs": [
    {
     "name": "stdout",
     "output_type": "stream",
     "text": [
      "주사위 면의 개수를 입력하세요: 100\n",
      "행운의 숫자는? 61\n"
     ]
    }
   ],
   "source": [
    "if __name__ == '__main__':\n",
    "    main()"
   ]
  },
  {
   "cell_type": "code",
   "execution_count": 10,
   "id": "inclusive-cherry",
   "metadata": {},
   "outputs": [
    {
     "name": "stdout",
     "output_type": "stream",
     "text": [
      "주사위 면의 개수를 입력하세요: 100\n",
      "행운의 숫자는? 7\n"
     ]
    }
   ],
   "source": [
    "def main():\n",
    "    n = get_inputs() # 주사위 면의 수를 입력 받음\n",
    "    mydice = FunnyDice(n) # FunnyDice의 클래스로부터 인스턴스 객체로 만듬\n",
    "    mydice.setval(7)\n",
    "    #mydice.throw() # 메소드 사용\n",
    "    print(\"행운의 숫자는? {}\".format(mydice.getval()))\n",
    "    \n",
    "if __name__ == '__main__':\n",
    "    main()"
   ]
  },
  {
   "cell_type": "markdown",
   "id": "opened-saturday",
   "metadata": {},
   "source": [
    "### 전체 코드"
   ]
  },
  {
   "cell_type": "code",
   "execution_count": 8,
   "id": "colonial-indian",
   "metadata": {},
   "outputs": [
    {
     "data": {
      "text/plain": [
       "'\\n# funnydice.py\\n\\nfrom random import randrange\\n\\nclass FunnyDice:\\n    def __init__(self, n=6):\\n        self.n = n\\n        self.options = list(range(1, n+1))\\n        self.index = randrange(0, self.n)\\n        self.val = self.options[self.index]\\n    \\n    def throw(self):\\n        self.index = randrange(0, self.n)\\n        self.val = self.options[self.index]\\n    \\n    def getval(self):\\n        return self.val\\n    \\n    def setval(self, val):\\n        if val <= self.n:\\n            self.val = val\\n        else:\\n            msg = \"주사위에 없는 숫자입니다. 주사위는 1 ~ {0}까지 있습니다. \".format(self.n)\\n            raise ValueError(msg)\\n\\ndef get_inputs():\\n    n = int(input(\"주사위 면의 개수를 입력하세요: \"))\\n    return n\\n\\ndef main():\\n    n = get_inputs()\\n    mydice = FunnyDice(n)\\n    mydice.throw()\\n    print(\"행운의 숫자는? {0}\".format(mydice.getval()))\\n\\nif __name__ == \\'__main__\\':\\n    main()\\n'"
      ]
     },
     "execution_count": 8,
     "metadata": {},
     "output_type": "execute_result"
    }
   ],
   "source": [
    "'''\n",
    "# funnydice.py\n",
    "\n",
    "from random import randrange\n",
    "\n",
    "class FunnyDice:\n",
    "    def __init__(self, n=6):\n",
    "        self.n = n\n",
    "        self.options = list(range(1, n+1))\n",
    "        self.index = randrange(0, self.n)\n",
    "        self.val = self.options[self.index]\n",
    "    \n",
    "    def throw(self):\n",
    "        self.index = randrange(0, self.n)\n",
    "        self.val = self.options[self.index]\n",
    "    \n",
    "    def getval(self):\n",
    "        return self.val\n",
    "    \n",
    "    def setval(self, val):\n",
    "        if val <= self.n:\n",
    "            self.val = val\n",
    "        else:\n",
    "            msg = \"주사위에 없는 숫자입니다. 주사위는 1 ~ {0}까지 있습니다. \".format(self.n)\n",
    "            raise ValueError(msg)\n",
    "\n",
    "def get_inputs():\n",
    "    n = int(input(\"주사위 면의 개수를 입력하세요: \"))\n",
    "    return n\n",
    "\n",
    "def main():\n",
    "    n = get_inputs()\n",
    "    mydice = FunnyDice(n)\n",
    "    mydice.throw()\n",
    "    print(\"행운의 숫자는? {0}\".format(mydice.getval()))\n",
    "\n",
    "if __name__ == '__main__':\n",
    "    main()\n",
    "'''"
   ]
  }
 ],
 "metadata": {
  "kernelspec": {
   "display_name": "Python 3",
   "language": "python",
   "name": "python3"
  },
  "language_info": {
   "codemirror_mode": {
    "name": "ipython",
    "version": 3
   },
   "file_extension": ".py",
   "mimetype": "text/x-python",
   "name": "python",
   "nbconvert_exporter": "python",
   "pygments_lexer": "ipython3",
   "version": "3.7.9"
  }
 },
 "nbformat": 4,
 "nbformat_minor": 5
}
